# Credit Card Fraud Detection Notebook

This notebook will include EDA, modeling, and evaluation.